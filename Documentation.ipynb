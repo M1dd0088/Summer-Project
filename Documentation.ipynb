{
 "cells": [
  {
   "cell_type": "code",
   "execution_count": 1,
   "id": "04794b7b",
   "metadata": {
    "ExecuteTime": {
     "end_time": "2023-08-01T22:52:44.653289Z",
     "start_time": "2023-08-01T22:52:41.037408Z"
    }
   },
   "outputs": [
    {
     "name": "stdout",
     "output_type": "stream",
     "text": [
      "Requirement already satisfied: python-docx in ./opt/anaconda3/lib/python3.9/site-packages (0.8.11)\n",
      "Requirement already satisfied: lxml>=2.3.2 in ./opt/anaconda3/lib/python3.9/site-packages (from python-docx) (4.9.2)\n",
      "Note: you may need to restart the kernel to use updated packages.\n"
     ]
    }
   ],
   "source": [
    "pip install python-docx\n"
   ]
  },
  {
   "cell_type": "code",
   "execution_count": 2,
   "id": "53122aa9",
   "metadata": {
    "ExecuteTime": {
     "end_time": "2023-08-01T22:52:44.775507Z",
     "start_time": "2023-08-01T22:52:44.657298Z"
    }
   },
   "outputs": [],
   "source": [
    "from docx import Document\n"
   ]
  },
  {
   "cell_type": "code",
   "execution_count": 9,
   "id": "3e7de514",
   "metadata": {
    "ExecuteTime": {
     "end_time": "2023-08-02T13:26:59.473566Z",
     "start_time": "2023-08-02T13:26:59.313157Z"
    }
   },
   "outputs": [
    {
     "name": "stdout",
     "output_type": "stream",
     "text": [
      "Word document 'my_document.docx' successfully created.\n"
     ]
    }
   ],
   "source": [
    "from docx import Document\n",
    "from docx.oxml import OxmlElement\n",
    "from docx.oxml.ns import nsdecls\n",
    "from docx.shared import Pt\n",
    "from docx.enum.table import WD_ALIGN_VERTICAL\n",
    "from docx.shared import Pt, Cm\n",
    "from docx.enum.table import WD_CELL_VERTICAL_ALIGNMENT\n",
    "from docx.enum.text import WD_PARAGRAPH_ALIGNMENT\n",
    "from docx.shared import Inches\n",
    "\n",
    "try:\n",
    "    # Create a new Word document\n",
    "    doc = Document()\n",
    "    \n",
    "    # Format\n",
    "    default_paragraph_format = doc.styles['Normal'].paragraph_format\n",
    "\n",
    "    # 1.5 line spacing\n",
    "    default_paragraph_format.line_spacing = 1.5\n",
    "\n",
    "    # Add a title\n",
    "    \n",
    "    doc.add_heading('Pricing American options by Monte Carlo', level=0)\n",
    "\n",
    "    # Add a paragraph\n",
    "    doc.add_heading('Introduction', level=1)\n",
    "    doc.add_heading('American options', level=2)\n",
    "    doc.add_paragraph('American options are financial derivatives that provide the holder with the right, but not the obligation, to buy (call option) or sell (put option) an underlying asset at a predetermined price, known as the strike price, at any time prior to or on the expiration date. Unlike European options, which can only be exercised at expiration, American options offer greater flexibility to investors as they can be exercised at any point during their lifespan.')\n",
    "    doc.add_paragraph('The valuation of American options is a complex task due to the early exercise feature. Traditional closed-form solutions, such as the Black-Scholes model, are limited to pricing European options, assuming no dividends and no possibility of early exercise. As a result, various numerical methods, including Monte Carlo simulation, have been developed to tackle the valuation problem associated with American options.')\n",
    "    doc.add_heading('Monte Carlo Simulation', level=2)\n",
    "    doc.add_paragraph('In recent years, there has been growing interest in employing advanced Monte Carlo simulation techniques to improve the accuracy and efficiency of valuing American options. Researchers have explored various enhancements, such as variance reduction techniques, adaptive sampling methods, and control variates, to reduce the computational burden associated with large-scale simulations while maintaining accuracy.')\n",
    "    doc.add_paragraph('The use of Monte Carlo simulation in valuing American options offers several advantages. Firstly, it accommodates a wide range of underlying asset price dynamics, including stochastic processes with jumps and mean reversion. This flexibility makes it suitable for modeling assets whose prices exhibit complex behavior, such as stocks, commodities, and currencies. Secondly, Monte Carlo simulation can handle path-dependent options, where the exercise decision depends not only on the final asset price but also on the historical path of prices. This capability makes it particularly useful for valuing exotic options and derivatives with early exercise features.')\n",
    "    doc.add_heading('Methodology', level=1)\n",
    "    doc.add_heading('Mathematical Implementation', level=2)\n",
    "    #formula\n",
    "    #methodology\n",
    "    doc.add_heading('American Options', level=3)\n",
    "    doc.add_paragraph('The exponential Brownian motion process is a mathematical model commonly used to describe the dynamics of financial asset prices, including equity prices. It assumes that the logarithm of the asset price follows a stochastic process known as a geometric Brownian motion.')\n",
    "    doc.add_paragraph('The exponential Brownian motion process is commonly used to model financial asset prices, assuming the logarithm of the price follows a geometric Brownian motion. This assumption allows for analytical solutions and is consistent with the concept of continuous compounding in finance.')\n",
    "    doc.add_paragraph('By solving the stochastic differential equation under appropriate boundary conditions or additional constraints, it is possible to obtain a probabilistic description of the equity price process S(t) over time.')\n",
    "    doc.add_heading('Assumptions in American Option Pricing', level=3)\n",
    "    # Add the main content\n",
    "    assumptions = [\n",
    "    \"The pricing of American options relies on several foundational assumptions that serve as the basis for various valuation methodologies. These assumptions are essential for simplifying the complexities of financial markets and enable the development of mathematical models to estimate the fair value of American options. Here are the main assumptions involved in pricing American options:\",\n",
    "    \"•Efficient Markets: The assumption of efficient markets posits that asset prices fully incorporate all available information. In other words, market participants act rationally, and there are no opportunities for arbitrage. This assumption allows for the use of mathematical models to determine option values, assuming that market prices accurately reflect all relevant factors.\",\n",
    "    \"•No Transaction Costs: Pricing models for American options typically assume the absence of transaction costs, such as fees or commissions, associated with trading the option. By neglecting transaction costs, these models simplify the valuation process and enable the use of closed-form solutions or efficient numerical methods.\",\n",
    "    \"•Risk-Neutral Probability: In certain pricing models, the risk-neutral probability measure is employed. This implies that the expected return on the underlying asset is the risk-free rate, disregarding the asset's actual expected return. By adopting the risk-neutral measure, pricing models align with the concept of risk-neutral valuation in financial economics.\",\n",
    "    \"•No Market Frictions: Pricing models often assume the absence of market frictions, such as taxes or restrictions on short selling. Although these frictions can impact option values and introduce additional complexities, assuming their absence facilitates a clearer understanding of option pricing dynamics.\"]\n",
    "\n",
    "    for assumption in assumptions:\n",
    "        if assumption.startswith(\"•\"):\n",
    "            doc.add_paragraph(assumption)\n",
    "        else:\n",
    "            doc.add_paragraph(assumption)\n",
    "    doc.add_heading('Monte Carlo', level=3)\n",
    "    doc.add_paragraph('Pricing American options using the Monte Carlo method involves simulating the underlying assets price trajectory and then applying the early exercise rule to determine the options optimal exercise time.')\n",
    "    doc.add_paragraph('This formula calculates the present value of the expected payoff for each simulated price path. The max function represents the early exercise rule, where the option is exercised if the intrinsic value (the difference between the asset price and the strike price) is positive, and it is held otherwise.')\n",
    "    doc.add_heading('Least Square Method', level=2)\n",
    "    doc.add_paragraph('The Least Square Monte Carlo (LSMC) method is a numerical technique used to value and hedge American options in complex financial models. It combines Monte Carlo simulation with regression techniques to estimate the option value.')\n",
    "    \n",
    "    doc.add_picture('/Users/mac/Documents/01.png')\n",
    "    doc.add_paragraph('The LSMC method seeks to minimize the sum of squared errors between the estimated continuation value from the regression analysis and the intrinsic value at each time step.')\n",
    "    doc.add_paragraph('The implementation steps of the Least Square Monte Carlo (LSM) method for pricing American options can be outlined as follows:')\n",
    "    doc.add_paragraph('To start, a large number of potential price paths for the underlying asset are generated using Monte Carlo simulations. These simulations incorporate the stochastic nature of the assets price movements, capturing market uncertainty. Subsequently, the immediate payoff of the American option is calculated at each exercise point along the simulated asset price paths. This represents the value the option holder would receive if they were to exercise their option at that specific time.')\n",
    "    doc.add_paragraph('Next, the continuation value of the option is estimated at each time step using regression analysis. The continuation value reflects the expected value of holding the option and not exercising it immediately. Regression analysis helps approximate the continuation value using the simulated asset prices and corresponding option prices. Utilizing dynamic programming techniques, the implementation proceeds by starting from the final time step (expiration) and iteratively moving backward to the initial time. At each time step, a comparison is made between the immediate payoff and the continuation value to determine the optimal exercise decision for the American option.')\n",
    "    doc.add_paragraph('By repeating this process for all simulated price paths, a set of optimal exercise decisions corresponding to each path is obtained. Finally, the estimated fair value of the American option is calculated by averaging these values.')\n",
    "    doc.add_paragraph('To sum up, the LSM method offers a powerful and effective approach to price American options by simulating numerous possible asset price paths, estimating continuation values through regression, and applying dynamic programming to make optimal exercise decisions. This numerical technique provides a flexible and accurate solution to address the complexities of American option pricing, making it a valuable tool in the realm of quantitative finance.')\n",
    "    doc.add_paragraph('')\n",
    "    doc.add_paragraph('')\n",
    "    doc.add_heading('Binomial Tree Method', level=2)\n",
    "    doc.add_paragraph('The binomial tree model is a numerical method widely used to estimate the prices of American options by discretizing time and constructing a tree structure to simulate the underlying assets price evolution. Valuing American options requires considering the optimal exercise strategy.')\n",
    "    doc.add_paragraph('The binomial tree model divides the time to expiration into a series of discrete time steps and constructs a binary tree representing the possible price movements of the underlying asset. At each node of the tree, the option price is calculated by considering both the intrinsic value (the payoff if the option is exercised immediately) and the expected value of continuation (the expected future value if the option is held). Using the binomial tree model, American option prices can be estimated by iteratively calculating the option values at each node. The optimal exercise strategy can be determined by comparing the option value at each node with the immediate exercise value. Limitations and Extensions.')\n",
    "    doc.add_paragraph('The binomial tree model has some limitations, such as computational intensity and assumptions regarding the underlying assets price movements. However, various extensions and modifications have been developed to address these limitations, including adjusting the tree parameters, incorporating dividends, and using more sophisticated tree structures.')\n",
    "    doc.add_heading('Numerical and Empirical Analysis', level=1)\n",
    "    doc.add_heading('Numerical Analysis for American Option Pricing', level=2)\n",
    "    doc.add_heading('Numerical Results', level=3)\n",
    "    recap = \"\"\"Before proceeding with the numerical experiments, a recap is provided of the key aspects of the MC method used in this study. Asset price paths were simulated by modeling the underlying asset's price dynamics using geometric Brownian motion. The risk-neutral valuation principle was employed to calculate the expected payoff of the American option at each time step. To account for early exercise, a comparison was made between the immediate exercise value and the continuation value at each simulation step, and the option was exercised if the former was higher.\n",
    "\n",
    "A representative sample of American option contracts, with varying maturities and strike prices and assuming no dividends, was carefully selected. Each contract had an exercise price set at 100, and three potential exercising dates were considered.The simulation results in Table 1.1 were obtained using the LSM technique with 15,000 simulations and 150 exercise points per year, all executed in Python. The option continuation was subject to a fixed compound risk-free interest rate of 0.06, while the initial stock price (S0), volatility (σ), and time to maturity (T) were varied as outlined in Table 4.1.\"\"\"\n",
    "\n",
    "    doc.add_paragraph(recap)\n",
    "    \n",
    "    # Add the table\n",
    "    table_data = [\n",
    "    ['S(0)', 'σ', 'T', 'American (True)', 'American (MC)', 'SE'],\n",
    "    [80, 0.4, 0.5, 21.6059, 21.6144, 0.00009],\n",
    "    [85, 0.4, 0.5, 18.0374, 17.8592, 0.0011],\n",
    "    [90, 0.4, 0.5, 14.9187, 14.5914, 0.0022],\n",
    "    [95, 0.4, 0.5, 12.2314, 11.7863, 0.003],\n",
    "    [100, 0.4, 0.5, 9.9458, 9.3877, 0.0037],\n",
    "    [105, 0.4, 0.5, 8.0281, 7.5874, 0.0029],\n",
    "    [110, 0.4, 0.5, 6.4352, 5.7802, 0.0043],\n",
    "    [115, 0.4, 0.5, 5.1265, 4.4909, 0.0042],\n",
    "    [120, 0.4, 0.5, 4.0611, 3.5518, 0.004]\n",
    "]\n",
    "\n",
    "    table = doc.add_table(rows=1, cols=6)\n",
    "    table.autofit = True\n",
    "    table.style.paragraph_format.alignment = WD_ALIGN_VERTICAL.CENTER\n",
    "\n",
    "    for i, row_data in enumerate(table_data):\n",
    "        row = table.add_row()\n",
    "        for j, cell_data in enumerate(row_data):\n",
    "            cell = row.cells[j]\n",
    "            if i == 0:  # Set the first row as bold\n",
    "                cell.paragraphs[0].text = str(cell_data)\n",
    "                cell.paragraphs[0].runs[0].font.bold = True\n",
    "            else:\n",
    "                cell.text = str(cell_data)\n",
    "\n",
    "        # Set font size for the entire table\n",
    "            for paragraph in cell.paragraphs:\n",
    "                for run in paragraph.runs:\n",
    "                    font = run.font\n",
    "                    font.size = Pt(10)\n",
    "\n",
    "\n",
    "\n",
    "# Add a caption for the table\n",
    "    doc.add_paragraph(\"Table 4.1: Simulation Price of American Puts with r = 0.06\")\n",
    "# Insert the figure\n",
    "    figure_caption = \"Figure 1: Comparison of Predicted and Actual Values\"\n",
    "    figure_path = \"comparison_plot.png\"\n",
    "\n",
    "# Add the image with caption\n",
    "    doc.add_picture(figure_path, width=Inches(5.5))  # Adjust width as needed\n",
    "    last_paragraph = doc.paragraphs[-1]\n",
    "    last_paragraph.alignment = WD_PARAGRAPH_ALIGNMENT.CENTER\n",
    "    doc.add_paragraph(figure_caption, style='Caption')\n",
    "# Specify the output document path\n",
    "    output_path = \"/Users/mac/Downloads/comparison_plot.png\"\n",
    "    \n",
    "    description = \"\"\"The plot displays a comparison between the predicted values and the actual values for a series of option prices, each corresponding to a specific current stock price. The x-axis represents the current stock price, and the y-axis represents the option value.\n",
    "    \n",
    "The predicted values, labeled as \"Predicted by MC,\" and the actual values are depicted as two lines with markers for each data point. The lines represent the trend of the option values with respect to the corresponding current stock prices.By observing the plot, the alignment between the two lines can be used to assess how accurately the prediction model estimates the option values compared to the actual values. A close proximity between the lines indicates a higher degree of accuracy in the predictions, while a notable difference suggests deviations between the predicted and actual values.\n",
    "\n",
    "The visual representation provides an assessment of the prediction model's accuracy, enabling areas of strong performance and potential improvement to be identified.\n",
    "\"\"\"\n",
    "\n",
    "    doc.add_paragraph(description)\n",
    "    doc.add_heading('Comparative Analysis', level=2)\n",
    "    doc.add_paragraph('Monte Carlo simulations entail generating a large number of random paths to estimate option prices. The computational complexity of Monte Carlo method is generally high, as it involves a substantial number of simulations to obtain accurate results. The number of simulations directly affects the precision of the estimates, and increasing the number of simulations leads to longer processing times. or a more comprehensive and accurate analysis in this dissertation, the Binomial Tree model was also incorporated for comparison alongside the Monte Carlo method. By extending the evaluation to include both techniques, deeper insights into their performance for option pricing were obtained. This approach allows for a well-informed decision on selecting the most suitable method based on specific option characteristics and available computational resources.')\n",
    "    # Insert the figure \n",
    "    figure_caption = \"Figure 2: Comparison of Predicted and Actual Values\"\n",
    "    figure_path = \"final_comparison.png\"\n",
    "\n",
    "    # Add the image with caption\n",
    "    doc.add_picture(figure_path, width=Inches(5.5))  # Adjust width as needed\n",
    "    last_paragraph = doc.paragraphs[-1]\n",
    "    last_paragraph.alignment = WD_PARAGRAPH_ALIGNMENT.CENTER\n",
    "    doc.add_paragraph(figure_caption, style='Caption')\n",
    "\n",
    "    description = \"\"\"\n",
    "The provided data consists of simulation prices for American put options using three different methods: True values, Least Square Monte Carlo (LSM) method, and Binomial Tree (BT) method. Upon analyzing the data and comparing the three methods, we observe the following insights:\n",
    "\"\"\"\n",
    "\n",
    "    doc.add_paragraph(description)\n",
    "    itemized_list = [\n",
    "    \"Accuracy Comparison: The True values represent the actual American put option prices and serve as a benchmark for assessing the accuracy of the other methods. Both the LSM estimates and the BT values attempt to approximate the True values. The discrepancies between the True values and the estimates provide a measure of the methods' accuracy.\",\n",
    "    \"Model Performance: For most initial stock prices (S(0)), both the LSM and BT methods provide reasonably close estimates to the True values. The LSM estimates generally track the True values closely, with minor deviations observed for some data points. Similarly, the BT estimates exhibit good performance but show slightly larger deviations compared to the LSM method.\",\n",
    "    \"Computational Complexity: The LSM method typically involves higher computational complexity due to the random simulations required in the estimation process. On the other hand, the BT method usually requires less computational effort as it relies on discretizing time and prices.\"\n",
    "]\n",
    "\n",
    "    for item in itemized_list:\n",
    "        doc.add_paragraph(item, style='ListBullet')\n",
    "    \n",
    "    doc.add_heading('Model Risk', level=2)\n",
    "    doc.add_heading('Error in Monte Carlo', level=3)\n",
    "    # Add the subsection content\n",
    "    subsection_content = \"\"\"\n",
    "Monte Carlo simulation is a widely used numerical method for estimating the prices of financial derivatives, including American options. \n",
    "However, due to its stochastic nature and reliance on random sampling, Monte Carlo methods may introduce errors in predicting American option prices. \n",
    "This part provides an academic analysis of the sources of errors that arise when using Monte Carlo simulations to forecast American option prices and explores potential strategies to mitigate these inaccuracies.\n",
    "\n",
    "Monte Carlo methods rely on sampling from probability distributions to simulate future price paths. \n",
    "The finite number of samples or the lack of a representative sample can introduce sampling errors, leading to biased estimation of option prices. \n",
    "Increasing the number of simulated paths can reduce this error, but it may come at the cost of increased computational resources.\n",
    "\n",
    "At the core of the Monte Carlo method lies the process of sampling from probability distributions to generate future price paths. \n",
    "However, the finite number of samples or the inadequacy of a representative sample may engender sampling errors, leading to biased estimations of American option prices. \n",
    "Mitigating this error requires an appropriate balance between computational resources and the number of simulated paths.\n",
    "\"\"\"\n",
    "\n",
    "    doc.add_paragraph(subsection_content)\n",
    "    # Save the document with an absolute file path\n",
    "    file_path = '/Users/mac/Documents/my_document.docx'  # Update this with your desired path\n",
    "    doc.save(file_path)\n",
    "\n",
    "    print(\"Word document 'my_document.docx' successfully created.\")\n",
    "except Exception as e:\n",
    "    print(f\"Error: {e}\")\n",
    "\n"
   ]
  },
  {
   "cell_type": "code",
   "execution_count": 1,
   "id": "82e52b44",
   "metadata": {
    "ExecuteTime": {
     "end_time": "2023-08-02T13:59:14.578098Z",
     "start_time": "2023-08-02T13:59:14.569809Z"
    }
   },
   "outputs": [],
   "source": [
    "import numpy as np\n",
    "def american_option_binomial_tree(S0, K, r, T, sigma, N, option_type='call'):\n",
    "    # Calculate time and step size\n",
    "    dt = T / N\n",
    "\n",
    "    # Calculate the up and down factors for the binomial tree\n",
    "    u = np.exp(sigma * np.sqrt(dt))\n",
    "    d = 1 / u\n",
    "\n",
    "    # Calculate the risk-neutral probability of an up move\n",
    "    p = (np.exp(r * dt) - d) / (u - d)\n",
    "\n",
    "    # Initialize arrays to store option prices at different time steps\n",
    "    option_values = np.zeros(N + 1)\n",
    "\n",
    "    # Generate the final option values at expiration (T)\n",
    "    if option_type == 'call':\n",
    "        option_values = np.maximum(S0 * u ** np.arange(N + 1) * d ** (N - np.arange(N + 1)) - K, 0)\n",
    "    else:\n",
    "        option_values = np.maximum(K - S0 * u ** np.arange(N + 1) * d ** (N - np.arange(N + 1)), 0)\n",
    "\n",
    "    # Backward induction to calculate option prices at earlier time steps\n",
    "    for n in range(N - 1, -1, -1):\n",
    "        # Calculate the option values at time step n\n",
    "        option_values = (p * option_values[:-1] + (1 - p) * option_values[1:]) * np.exp(-r * dt)\n",
    "\n",
    "        # Calculate early exercise values and update option prices\n",
    "        if option_type == 'call':\n",
    "            early_exercise_values = np.maximum(S0 * u ** np.arange(n + 1) * d ** (n - np.arange(n + 1)) - K, 0)\n",
    "        else:\n",
    "            early_exercise_values = np.maximum(K - S0 * u ** np.arange(n + 1) * d ** (n - np.arange(n + 1)), 0)\n",
    "\n",
    "        option_values = np.maximum(option_values, early_exercise_values)\n",
    "\n",
    "    return option_values[0]\n",
    "\n"
   ]
  },
  {
   "cell_type": "code",
   "execution_count": 2,
   "id": "38d47ed5",
   "metadata": {
    "ExecuteTime": {
     "end_time": "2023-08-02T14:00:25.039072Z",
     "start_time": "2023-08-02T14:00:19.150526Z"
    }
   },
   "outputs": [
    {
     "name": "stdout",
     "output_type": "stream",
     "text": [
      "American Call Option Price: 1.1439350211235417\n",
      "American Put Option Price: 20.758326941793758\n"
     ]
    }
   ],
   "source": [
    "# Option parameters\n",
    "S0 = 80  # Current stock price\n",
    "K = 100   # Option strike price\n",
    "r = 0.04  # Risk-free interest rate\n",
    "T = 1     # Time to expiration (in years)\n",
    "sigma = 0.2  # Volatility\n",
    "N = 10000   # Number of time steps\n",
    "\n",
    "# Calculate the call option price\n",
    "call_option_price = american_option_binomial_tree(S0, K, r, T, sigma, N, option_type='call')\n",
    "print(\"American Call Option Price:\", call_option_price)\n",
    "\n",
    "# Calculate the put option price\n",
    "put_option_price = american_option_binomial_tree(S0, K, r, T, sigma, N, option_type='put')\n",
    "print(\"American Put Option Price:\", put_option_price)"
   ]
  },
  {
   "cell_type": "code",
   "execution_count": 3,
   "id": "e7187de3",
   "metadata": {
    "ExecuteTime": {
     "end_time": "2023-08-02T14:00:52.636408Z",
     "start_time": "2023-08-02T14:00:39.586900Z"
    }
   },
   "outputs": [
    {
     "name": "stdout",
     "output_type": "stream",
     "text": [
      "American Call Option Price: 28.926861785933628\n",
      "American Put Option Price: 3.6794118139202854\n"
     ]
    }
   ],
   "source": [
    "# Option parameters\n",
    "S0 = 120  # Current stock price\n",
    "K = 100   # Option strike price\n",
    "r = 0.06  # Risk-free interest rate\n",
    "T = 0.5     # Time to expiration (in years)\n",
    "sigma = 0.4  # Volatility\n",
    "N = 15000   # Number of time steps\n",
    "\n",
    "# Calculate the call option price\n",
    "call_option_price = american_option_binomial_tree(S0, K, r, T, sigma, N, option_type='call')\n",
    "print(\"American Call Option Price:\", call_option_price)\n",
    "\n",
    "# Calculate the put option price\n",
    "put_option_price = american_option_binomial_tree(S0, K, r, T, sigma, N, option_type='put')\n",
    "print(\"American Put Option Price:\", put_option_price)"
   ]
  },
  {
   "cell_type": "code",
   "execution_count": 4,
   "id": "ace54e19",
   "metadata": {
    "ExecuteTime": {
     "end_time": "2023-08-02T14:01:04.219010Z",
     "start_time": "2023-08-02T14:01:02.459323Z"
    }
   },
   "outputs": [],
   "source": [
    "import numpy as np\n",
    "from scipy.stats import norm\n",
    "\n",
    "def american_option_mc(S0, K, r, T, sigma, N, M, option_type='call'):\n",
    "    dt = T / N\n",
    "    discount_factor = np.exp(-r * T)\n",
    "\n",
    "    # Generate random price paths using the geometric Brownian motion model\n",
    "    S = np.zeros((M, N+1))\n",
    "    S[:, 0] = S0\n",
    "    for t in range(1, N+1):\n",
    "        z = np.random.standard_normal(M)\n",
    "        S[:, t] = S[:, t-1] * np.exp((r - 0.5 * sigma**2) * dt + sigma * np.sqrt(dt) * z)\n",
    "\n",
    "    # Calculate option payoff at expiration (T)\n",
    "    if option_type == 'call':\n",
    "        payoff = np.maximum(S[:, -1] - K, 0)\n",
    "    else:\n",
    "        payoff = np.maximum(K - S[:, -1], 0)\n",
    "\n",
    "    # Backward induction to calculate option prices at earlier time steps\n",
    "    for t in range(N-1, -1, -1):\n",
    "        # Calculate immediate exercise values\n",
    "        if option_type == 'call':\n",
    "            immediate_exercise = np.maximum(S[:, t] - K, 0)\n",
    "        else:\n",
    "            immediate_exercise = np.maximum(K - S[:, t], 0)\n",
    "\n",
    "        # Calculate option continuation values\n",
    "        continuation_value = np.exp(-r * dt) * discount_factor * np.mean(payoff)\n",
    "        \n",
    "        # Determine early exercise\n",
    "        payoff = np.maximum(immediate_exercise, continuation_value)\n",
    "\n",
    "    return np.mean(payoff)"
   ]
  },
  {
   "cell_type": "code",
   "execution_count": 5,
   "id": "f7e5b1b7",
   "metadata": {
    "ExecuteTime": {
     "end_time": "2023-08-02T14:01:39.650694Z",
     "start_time": "2023-08-02T14:01:39.382622Z"
    }
   },
   "outputs": [
    {
     "name": "stdout",
     "output_type": "stream",
     "text": [
      "American Call Option Price: 4.735235700792029\n",
      "American Put Option Price: 17.87837303337935\n"
     ]
    }
   ],
   "source": [
    "# Option parameters\n",
    "S0 = 85  # Current stock price\n",
    "K = 100   # Option strike price\n",
    "r = 0.06  # Risk-free interest rate\n",
    "T = 0.5     # Time to expiration (in years)\n",
    "sigma = 0.4  # Volatility\n",
    "N = 150   # Number of time steps\n",
    "M = 15000 # Number of Monte Carlo simulations\n",
    "\n",
    "# Calculate the call option price\n",
    "call_option_price = american_option_mc(S0, K, r, T, sigma, N, M, option_type='call')\n",
    "print(\"American Call Option Price:\", call_option_price)\n",
    "\n",
    "# Calculate the put option price\n",
    "put_option_price = american_option_mc(S0, K, r, T, sigma, N, M, option_type='put')\n",
    "print(\"American Put Option Price:\", put_option_price)"
   ]
  },
  {
   "cell_type": "code",
   "execution_count": 6,
   "id": "19d32627",
   "metadata": {
    "ExecuteTime": {
     "end_time": "2023-08-02T14:01:43.047047Z",
     "start_time": "2023-08-02T14:01:41.782531Z"
    }
   },
   "outputs": [
    {
     "data": {
      "image/png": "[encoded data removed]",
      "text/plain": [
       "<Figure size 432x288 with 1 Axes>"
      ]
     },
     "metadata": {
      "needs_background": "light"
     },
     "output_type": "display_data"
    }
   ],
   "source": [
    "import numpy as np\n",
    "import matplotlib.pyplot as plt\n",
    "\n",
    "# Assuming you have the predicted values and actual values as lists or arrays\n",
    "predicted_values = [21.6144, 17.8592, 14.5914, 11.7863, 9.3877, 7.5874, 5.7802, 4.4909, 3.5518]\n",
    "actual_values = [21.6059, 18.0374, 14.9187, 12.2314, 9.9458, 8.0281, 6.4352, 5.1265, 4.0611]\n",
    "\n",
    "# Assuming you have the x-axis values for Current Stock Price\n",
    "x_values = [80, 85, 90, 95, 100, 105, 110, 115, 120]\n",
    "\n",
    "# Plot the predicted values as a line\n",
    "plt.plot(x_values, predicted_values, label='Predicted by MC', marker='o')\n",
    "\n",
    "# Plot the actual values as a line\n",
    "plt.plot(x_values, actual_values, label='Actual', marker='o')\n",
    "\n",
    "# Add labels and title to the plot\n",
    "plt.xlabel('Current stock price')\n",
    "plt.ylabel('Option Value')\n",
    "plt.title('Comparison of Predicted and Actual Values')\n",
    "plt.legend()\n",
    "\n",
    "plt.savefig('comparison_plot.png')\n",
    "# Show the plot\n",
    "plt.show()"
   ]
  },
  {
   "cell_type": "code",
   "execution_count": 7,
   "id": "9b23aa63",
   "metadata": {
    "ExecuteTime": {
     "end_time": "2023-08-02T14:01:46.119544Z",
     "start_time": "2023-08-02T14:01:45.614030Z"
    }
   },
   "outputs": [
    {
     "data": {
      "image/png": "[encoded data removed]",
      "text/plain": [
       "<Figure size 432x288 with 1 Axes>"
      ]
     },
     "metadata": {
      "needs_background": "light"
     },
     "output_type": "display_data"
    }
   ],
   "source": [
    "import matplotlib.pyplot as plt\n",
    "import numpy as np\n",
    "\n",
    "# Data from the table\n",
    "S_0 = [80, 85, 90, 95, 100, 105, 110, 115, 120]\n",
    "American_true = [21.6059, 18.0374, 14.9187, 12.2314, 9.9458, 8.0281, 6.4352, 5.1265, 4.0611]\n",
    "American_MC = [21.6144, 17.8592, 14.5914, 11.7863, 9.3877, 7.5874, 5.7802, 4.4909, 3.5518]\n",
    "American_BT = [21.0720, 17.4134, 14.2613, 11.5809, 9.3302, 7.4628, 5.9297, 4.6834, 3.6794]\n",
    "\n",
    "# Width of the bars\n",
    "bar_width = 0.25\n",
    "\n",
    "# Positions of the bars on the x-axis\n",
    "r1 = np.arange(len(S_0))\n",
    "r2 = [x + bar_width for x in r1]\n",
    "r3 = [x + bar_width for x in r2]\n",
    "\n",
    "# Plotting the data as a bar chart\n",
    "plt.bar(r1, American_true, width=bar_width, label='American (True)')\n",
    "plt.bar(r2, American_MC, width=bar_width, label='American (MC)')\n",
    "plt.bar(r3, American_BT, width=bar_width, label='American (BT)')\n",
    "\n",
    "# Adding labels and title to the plot\n",
    "plt.xlabel('S(0)')\n",
    "plt.ylabel('Option Price')\n",
    "plt.title('Simulation Price of American Puts with r=0.06, T=0.6, $\\sigma$=0.4')\n",
    "plt.xticks([r + bar_width for r in range(len(S_0))], S_0)\n",
    "plt.legend()\n",
    "plt.savefig('final_comparison.png')\n",
    "# Display the plot\n",
    "plt.grid(True)\n",
    "plt.tight_layout()\n",
    "plt.show()\n"
   ]
  },
  {
   "cell_type": "code",
   "execution_count": null,
   "id": "e8ab7a2e",
   "metadata": {},
   "outputs": [],
   "source": []
  }
 ],
 "metadata": {
  "kernelspec": {
   "display_name": "Python 3 (ipykernel)",
   "language": "python",
   "name": "python3"
  },
  "language_info": {
   "codemirror_mode": {
    "name": "ipython",
    "version": 3
   },
   "file_extension": ".py",
   "mimetype": "text/x-python",
   "name": "python",
   "nbconvert_exporter": "python",
   "pygments_lexer": "ipython3",
   "version": "3.9.12"
  },
  "toc": {
   "base_numbering": 1,
   "nav_menu": {},
   "number_sections": true,
   "sideBar": true,
   "skip_h1_title": false,
   "title_cell": "Table of Contents",
   "title_sidebar": "Contents",
   "toc_cell": false,
   "toc_position": {},
   "toc_section_display": true,
   "toc_window_display": false
  },
  "varInspector": {
   "cols": {
    "lenName": 16,
    "lenType": 16,
    "lenVar": 40
   },
   "kernels_config": {
    "python": {
     "delete_cmd_postfix": "",
     "delete_cmd_prefix": "del ",
     "library": "var_list.py",
     "varRefreshCmd": "print(var_dic_list())"
    },
    "r": {
     "delete_cmd_postfix": ") ",
     "delete_cmd_prefix": "rm(",
     "library": "var_list.r",
     "varRefreshCmd": "cat(var_dic_list()) "
    }
   },
   "types_to_exclude": [
    "module",
    "function",
    "builtin_function_or_method",
    "instance",
    "_Feature"
   ],
   "window_display": false
  }
 },
 "nbformat": 4,
 "nbformat_minor": 5
}
